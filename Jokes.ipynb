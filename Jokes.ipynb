{
 "cells": [
  {
   "cell_type": "markdown",
   "id": "85eb8247-1067-47e5-9a19-f5d20d4b2fd5",
   "metadata": {
    "id": "85eb8247-1067-47e5-9a19-f5d20d4b2fd5"
   },
   "source": [
    "**Описание данных**\n",
    "\n",
    "Файл `train_joke_df.csv` содержит:\n",
    "- UID - id пользователей\n",
    "- JID - id шуток, которые \n",
    "- Rating - рейтинг шутки, который проставил пользователь \n",
    "\n",
    "\n",
    "Рейтинг имеет значение от -10.00 до 10.00. Могут встречаться значения 99.00, но это обозначает Null (нет рейтинга от пользователя).\n",
    "\n",
    "Метрика для оценки [RMSE](https://www.codecamp.ru/blog/how-to-interpret-rmse/)\n",
    "\n",
    "Минимальный RMSE: `4.2238`\n",
    "\n"
   ]
  },
  {
   "cell_type": "code",
   "execution_count": 5,
   "id": "ec9f8af1-f94e-4955-a420-39aa18f37806",
   "metadata": {
    "colab": {
     "base_uri": "https://localhost:8080/"
    },
    "id": "ec9f8af1-f94e-4955-a420-39aa18f37806",
    "outputId": "62b72c77-065d-4e2b-8521-204030cba0aa"
   },
   "outputs": [
    {
     "name": "stdout",
     "output_type": "stream",
     "text": [
      "Collecting scikit-surprise==1.1.3\n",
      "  Using cached scikit-surprise-1.1.3.tar.gz (771 kB)\n",
      "Requirement already satisfied: joblib>=1.0.0 in c:\\programdata\\anaconda3\\lib\\site-packages (from scikit-surprise==1.1.3) (1.1.0)\n",
      "Requirement already satisfied: numpy>=1.17.3 in c:\\programdata\\anaconda3\\lib\\site-packages (from scikit-surprise==1.1.3) (1.20.3)\n",
      "Requirement already satisfied: scipy>=1.3.2 in c:\\programdata\\anaconda3\\lib\\site-packages (from scikit-surprise==1.1.3) (1.7.1)\n",
      "Building wheels for collected packages: scikit-surprise\n",
      "  Building wheel for scikit-surprise (setup.py): started\n",
      "  Building wheel for scikit-surprise (setup.py): finished with status 'done'\n",
      "  Created wheel for scikit-surprise: filename=scikit_surprise-1.1.3-cp39-cp39-win_amd64.whl size=1142334 sha256=edeac306569a63fffe6e7354575b03b60bd6a29a01e89362b0c414ed208059d3\n",
      "  Stored in directory: c:\\users\\sasha\\appdata\\local\\pip\\cache\\wheels\\c6\\3a\\46\\9b17b3512bdf283c6cb84f59929cdd5199d4e754d596d22784\n",
      "Successfully built scikit-surprise\n",
      "Installing collected packages: scikit-surprise\n",
      "Successfully installed scikit-surprise-1.1.3\n",
      "Note: you may need to restart the kernel to use updated packages.\n",
      "Requirement already satisfied: xlrd==2.0.1 in c:\\programdata\\anaconda3\\lib\\site-packages (2.0.1)\n",
      "Note: you may need to restart the kernel to use updated packages.\n"
     ]
    }
   ],
   "source": [
    "%pip install \"scikit-surprise==1.1.3\"\n",
    "%pip install \"xlrd==2.0.1\""
   ]
  },
  {
   "cell_type": "markdown",
   "id": "f4fc3daa-2632-4ad6-b904-752bd2308fc8",
   "metadata": {
    "id": "f4fc3daa-2632-4ad6-b904-752bd2308fc8"
   },
   "source": [
    "### Import"
   ]
  },
  {
   "cell_type": "code",
   "execution_count": 1,
   "id": "427278c8-3010-4e10-9271-dc3b7723e0e7",
   "metadata": {
    "id": "427278c8-3010-4e10-9271-dc3b7723e0e7"
   },
   "outputs": [],
   "source": [
    "import numpy as np\n",
    "import pandas as pd\n",
    "from collections import defaultdict\n",
    "from surprise import Dataset, Reader, KNNWithMeans, accuracy, SVDpp\n",
    "from surprise.model_selection import GridSearchCV\n",
    "from surprise.model_selection import train_test_split\n",
    "from sklearn.model_selection import train_test_split as tts\n",
    "from surprise.model_selection import KFold\n",
    "\n",
    "np.random.seed(42)"
   ]
  },
  {
   "cell_type": "markdown",
   "id": "0011beb8-385e-4fab-a946-7c5972cd7727",
   "metadata": {
    "id": "0011beb8-385e-4fab-a946-7c5972cd7727"
   },
   "source": [
    "### Базовые функции для скоринга и получения рекомендаций"
   ]
  },
  {
   "cell_type": "code",
   "execution_count": 2,
   "id": "95b435cb-6972-4a46-b086-bc5ae5a89b8e",
   "metadata": {
    "id": "95b435cb-6972-4a46-b086-bc5ae5a89b8e"
   },
   "outputs": [],
   "source": [
    "def get_num_user_ratings(uid):\n",
    "    try:\n",
    "        return len(trainset.ur[trainset.to_inner_uid(uid)])\n",
    "    except ValueError: # пользователя не было во время обучения (новый, отправить на стартовые рекомендации)\n",
    "        return 0\n",
    "    \n",
    "def get_num_item_ratings(iid):\n",
    "    try: \n",
    "        return len(trainset.ir[trainset.to_inner_iid(iid)])\n",
    "    except ValueError:\n",
    "        return 0\n",
    "    \n",
    "def get_top_n(predictions, n=5):\n",
    "    top_n = defaultdict(list)\n",
    "    for uid, iid, true_r, est, _ in predictions:\n",
    "        top_n[uid].append((iid, est))\n",
    "    for uid, user_ratings in top_n.items():\n",
    "        user_ratings.sort(key=lambda x: x[1], reverse=True)\n",
    "        top_n[uid] = user_ratings[:n]\n",
    "\n",
    "    return top_n    "
   ]
  },
  {
   "cell_type": "markdown",
   "id": "d3f82a04-60f8-4338-8175-84409a9226ae",
   "metadata": {
    "id": "d3f82a04-60f8-4338-8175-84409a9226ae"
   },
   "source": [
    "### Загрузка и обработка данных"
   ]
  },
  {
   "cell_type": "code",
   "execution_count": 3,
   "id": "6c7c4800-84cc-48ec-b5a4-0e0cb5a69c18",
   "metadata": {
    "colab": {
     "base_uri": "https://localhost:8080/",
     "height": 206
    },
    "id": "6c7c4800-84cc-48ec-b5a4-0e0cb5a69c18",
    "outputId": "867fbe58-7ef6-42fd-a561-b183fac8a56c"
   },
   "outputs": [
    {
     "data": {
      "text/html": [
       "<div>\n",
       "<style scoped>\n",
       "    .dataframe tbody tr th:only-of-type {\n",
       "        vertical-align: middle;\n",
       "    }\n",
       "\n",
       "    .dataframe tbody tr th {\n",
       "        vertical-align: top;\n",
       "    }\n",
       "\n",
       "    .dataframe thead th {\n",
       "        text-align: right;\n",
       "    }\n",
       "</style>\n",
       "<table border=\"1\" class=\"dataframe\">\n",
       "  <thead>\n",
       "    <tr style=\"text-align: right;\">\n",
       "      <th></th>\n",
       "      <th>UID</th>\n",
       "      <th>JID</th>\n",
       "      <th>Rating</th>\n",
       "    </tr>\n",
       "  </thead>\n",
       "  <tbody>\n",
       "    <tr>\n",
       "      <th>0</th>\n",
       "      <td>18029</td>\n",
       "      <td>6</td>\n",
       "      <td>-1.26</td>\n",
       "    </tr>\n",
       "    <tr>\n",
       "      <th>1</th>\n",
       "      <td>3298</td>\n",
       "      <td>64</td>\n",
       "      <td>-4.17</td>\n",
       "    </tr>\n",
       "    <tr>\n",
       "      <th>2</th>\n",
       "      <td>3366</td>\n",
       "      <td>58</td>\n",
       "      <td>0.92</td>\n",
       "    </tr>\n",
       "    <tr>\n",
       "      <th>3</th>\n",
       "      <td>12735</td>\n",
       "      <td>92</td>\n",
       "      <td>3.69</td>\n",
       "    </tr>\n",
       "    <tr>\n",
       "      <th>4</th>\n",
       "      <td>11365</td>\n",
       "      <td>38</td>\n",
       "      <td>-6.60</td>\n",
       "    </tr>\n",
       "  </tbody>\n",
       "</table>\n",
       "</div>"
      ],
      "text/plain": [
       "     UID  JID  Rating\n",
       "0  18029    6   -1.26\n",
       "1   3298   64   -4.17\n",
       "2   3366   58    0.92\n",
       "3  12735   92    3.69\n",
       "4  11365   38   -6.60"
      ]
     },
     "execution_count": 3,
     "metadata": {},
     "output_type": "execute_result"
    }
   ],
   "source": [
    "df = pd.read_csv('train_joke_df.csv')\n",
    "\n",
    "df.head(5)"
   ]
  },
  {
   "cell_type": "code",
   "execution_count": 4,
   "id": "08f07545-6735-407c-b549-822e9c701c70",
   "metadata": {
    "id": "08f07545-6735-407c-b549-822e9c701c70"
   },
   "outputs": [],
   "source": [
    "df = df.sort_values(by=['UID', 'JID'])\n",
    "df = df.reset_index(drop=True)"
   ]
  },
  {
   "cell_type": "code",
   "execution_count": 5,
   "id": "c6569d6a-5e39-43ee-96c8-283d788573d3",
   "metadata": {
    "id": "c6569d6a-5e39-43ee-96c8-283d788573d3"
   },
   "outputs": [],
   "source": [
    "reader = Reader(rating_scale=(-10, 10))\n",
    "data = Dataset.load_from_df(df[['UID', 'JID', 'Rating']], reader)"
   ]
  },
  {
   "cell_type": "code",
   "execution_count": 6,
   "id": "ae962279-bafb-408e-a1a9-1c698d75157e",
   "metadata": {
    "id": "ae962279-bafb-408e-a1a9-1c698d75157e"
   },
   "outputs": [],
   "source": [
    "trainset_data = data.build_full_trainset()\n",
    "trainset, testset = train_test_split(data, test_size=0.2, random_state=42)"
   ]
  },
  {
   "cell_type": "markdown",
   "id": "879fe08d-1317-4028-b797-03baee7f7311",
   "metadata": {
    "id": "879fe08d-1317-4028-b797-03baee7f7311"
   },
   "source": [
    "### Обучение модели"
   ]
  },
  {
   "cell_type": "code",
   "execution_count": 8,
   "id": "d49480df-77b9-4e69-b123-d8ef610af17d",
   "metadata": {
    "colab": {
     "base_uri": "https://localhost:8080/"
    },
    "id": "d49480df-77b9-4e69-b123-d8ef610af17d",
    "outputId": "c3d15544-f42b-48ff-facc-c60617c308a6"
   },
   "outputs": [
    {
     "data": {
      "text/plain": [
       "<surprise.prediction_algorithms.matrix_factorization.SVDpp at 0x22c4f586490>"
      ]
     },
     "execution_count": 8,
     "metadata": {},
     "output_type": "execute_result"
    }
   ],
   "source": [
    "sim_options = {\n",
    "    \"name\": [\"msd\", \"cosine\"], # способы оценки похожести (в GridSearch)\n",
    "    \"min_support\": [1, 2],     # минимальное кол-во общих пользоватлей с данной шуткой\n",
    "    \"user_based\": [False],     # поиск \"похожести\" будет на основе шуток, а не пользователей\n",
    "}\n",
    "\n",
    "param_grid = {\"sim_options\": sim_options}\n",
    "\n",
    "gs = GridSearchCV(KNNBaseline, param_grid, measures=[\"rmse\", \"mae\"], cv=2)\n",
    "gs.fit(data)\n",
    "     \n",
    "# результат\n",
    "print(gs.best_score[\"rmse\"])\n",
    "print(gs.best_params[\"rmse\"])"
   ]
  },
  {
   "cell_type": "code",
   "execution_count": null,
   "id": "baf6088f",
   "metadata": {},
   "outputs": [],
   "source": []
  },
  {
   "cell_type": "code",
   "execution_count": 21,
   "id": "21e7c75a-e8df-4e8c-9b9d-7f200790cb44",
   "metadata": {
    "colab": {
     "base_uri": "https://localhost:8080/"
    },
    "id": "21e7c75a-e8df-4e8c-9b9d-7f200790cb44",
    "outputId": "273217cf-d0b8-433b-d750-2c02d0dc9a2a"
   },
   "outputs": [
    {
     "name": "stdout",
     "output_type": "stream",
     "text": [
      "Estimating biases using als...\n",
      "Computing the cosine similarity matrix...\n",
      "Done computing similarity matrix.\n",
      "RMSE: 3.1658\n"
     ]
    },
    {
     "data": {
      "text/plain": [
       "3.1658331408404443"
      ]
     },
     "execution_count": 21,
     "metadata": {},
     "output_type": "execute_result"
    }
   ],
   "source": [
    "algo = gs.best_estimator['rmse']\n",
    "algo.fit(trainset)\n",
    "predictions = algo.test(testset)\n",
    "accuracy.rmse(predictions)"
   ]
  },
  {
   "cell_type": "code",
   "execution_count": 9,
   "id": "7315823d",
   "metadata": {},
   "outputs": [
    {
     "name": "stdout",
     "output_type": "stream",
     "text": [
      "RMSE: 4.8093\n"
     ]
    },
    {
     "data": {
      "text/plain": [
       "4.809291632393172"
      ]
     },
     "execution_count": 9,
     "metadata": {},
     "output_type": "execute_result"
    }
   ],
   "source": [
    "predictions = svd.test(testset)\n",
    "accuracy.rmse(predictions)"
   ]
  },
  {
   "cell_type": "markdown",
   "id": "b072635d-739a-48cd-812f-8fd04e3f9d32",
   "metadata": {
    "id": "b072635d-739a-48cd-812f-8fd04e3f9d32"
   },
   "source": [
    "### Тестирование и результаты"
   ]
  },
  {
   "cell_type": "code",
   "execution_count": 22,
   "id": "c2be3189-9e9e-469a-916e-9c78a93e6aa2",
   "metadata": {
    "colab": {
     "base_uri": "https://localhost:8080/"
    },
    "id": "c2be3189-9e9e-469a-916e-9c78a93e6aa2",
    "outputId": "1d50db09-cb1d-437b-9359-dc212b43f515"
   },
   "outputs": [
    {
     "name": "stdout",
     "output_type": "stream",
     "text": [
      "user: 1          item: 1          r_ui = -7.82   est = -3.05   {'actual_k': 40, 'was_impossible': False}\n"
     ]
    }
   ],
   "source": [
    "uid = 1  \n",
    "iid = 1\n",
    "pred = algo.predict(uid, iid, r_ui=-7.82, verbose=True)"
   ]
  },
  {
   "cell_type": "code",
   "execution_count": 23,
   "id": "a6cca0fb-7536-45f5-8ad9-9233831bb5f7",
   "metadata": {
    "colab": {
     "base_uri": "https://localhost:8080/"
    },
    "id": "a6cca0fb-7536-45f5-8ad9-9233831bb5f7",
    "outputId": "70f2481a-a1f4-4ce8-8d2f-c7ddb9c5fd8a"
   },
   "outputs": [
    {
     "name": "stdout",
     "output_type": "stream",
     "text": [
      "user: 24983      item: 62         r_ui = -0.29   est = 5.22   {'actual_k': 40, 'was_impossible': False}\n"
     ]
    }
   ],
   "source": [
    "uid = 24983\n",
    "iid = 62\n",
    "pred = algo.predict(uid, iid, r_ui=-0.29, verbose=True)"
   ]
  },
  {
   "cell_type": "markdown",
   "id": "09debb1b-0ffa-4dc4-a91b-c06124e0d8b7",
   "metadata": {
    "id": "09debb1b-0ffa-4dc4-a91b-c06124e0d8b7"
   },
   "source": [
    "### Обзор рекомендаций"
   ]
  },
  {
   "cell_type": "code",
   "execution_count": 24,
   "id": "d942cdd3-af9d-4cc4-a294-0f451b0944ab",
   "metadata": {
    "id": "d942cdd3-af9d-4cc4-a294-0f451b0944ab"
   },
   "outputs": [],
   "source": [
    "trainset = algo.trainset\n",
    "\n",
    "predictions_df = pd.DataFrame(predictions, columns=['uid', 'iid', 'rui', 'est', 'details'])\n",
    "\n",
    "predictions_df['№ кол-во пользовательских рейтингов'] = predictions_df.uid.apply(get_num_user_ratings)\n",
    "predictions_df['№ кол-во рейтингов элементов'] = predictions_df.iid.apply(get_num_item_ratings)\n",
    "predictions_df['error'] = abs(predictions_df.est - predictions_df.rui)\n",
    "\n",
    "best_predictions = predictions_df.sort_values(by='error')[:10]\n",
    "worst_predictions = predictions_df.sort_values(by='error')[-10:]"
   ]
  },
  {
   "cell_type": "code",
   "execution_count": 25,
   "id": "ca77d78d-db5e-44b7-8da0-3bd7c8d34f64",
   "metadata": {
    "colab": {
     "base_uri": "https://localhost:8080/",
     "height": 206
    },
    "id": "ca77d78d-db5e-44b7-8da0-3bd7c8d34f64",
    "outputId": "c5c136d2-7910-4ae7-9a66-fe89c672c2fe"
   },
   "outputs": [
    {
     "data": {
      "text/html": [
       "<div>\n",
       "<style scoped>\n",
       "    .dataframe tbody tr th:only-of-type {\n",
       "        vertical-align: middle;\n",
       "    }\n",
       "\n",
       "    .dataframe tbody tr th {\n",
       "        vertical-align: top;\n",
       "    }\n",
       "\n",
       "    .dataframe thead th {\n",
       "        text-align: right;\n",
       "    }\n",
       "</style>\n",
       "<table border=\"1\" class=\"dataframe\">\n",
       "  <thead>\n",
       "    <tr style=\"text-align: right;\">\n",
       "      <th></th>\n",
       "      <th>uid</th>\n",
       "      <th>iid</th>\n",
       "      <th>rui</th>\n",
       "      <th>est</th>\n",
       "      <th>details</th>\n",
       "      <th>№ кол-во пользовательских рейтингов</th>\n",
       "      <th>№ кол-во рейтингов элементов</th>\n",
       "      <th>error</th>\n",
       "    </tr>\n",
       "  </thead>\n",
       "  <tbody>\n",
       "    <tr>\n",
       "      <th>1047740</th>\n",
       "      <td>11935</td>\n",
       "      <td>64</td>\n",
       "      <td>0.881123</td>\n",
       "      <td>0.881124</td>\n",
       "      <td>{'actual_k': 40, 'was_impossible': False}</td>\n",
       "      <td>42</td>\n",
       "      <td>11146</td>\n",
       "      <td>0.000001</td>\n",
       "    </tr>\n",
       "    <tr>\n",
       "      <th>561033</th>\n",
       "      <td>23286</td>\n",
       "      <td>90</td>\n",
       "      <td>0.881123</td>\n",
       "      <td>0.881118</td>\n",
       "      <td>{'actual_k': 40, 'was_impossible': False}</td>\n",
       "      <td>64</td>\n",
       "      <td>6204</td>\n",
       "      <td>0.000006</td>\n",
       "    </tr>\n",
       "    <tr>\n",
       "      <th>720711</th>\n",
       "      <td>4287</td>\n",
       "      <td>59</td>\n",
       "      <td>0.881123</td>\n",
       "      <td>0.881131</td>\n",
       "      <td>{'actual_k': 40, 'was_impossible': False}</td>\n",
       "      <td>64</td>\n",
       "      <td>11579</td>\n",
       "      <td>0.000008</td>\n",
       "    </tr>\n",
       "    <tr>\n",
       "      <th>427699</th>\n",
       "      <td>8140</td>\n",
       "      <td>73</td>\n",
       "      <td>0.881123</td>\n",
       "      <td>0.881134</td>\n",
       "      <td>{'actual_k': 40, 'was_impossible': False}</td>\n",
       "      <td>55</td>\n",
       "      <td>5458</td>\n",
       "      <td>0.000010</td>\n",
       "    </tr>\n",
       "    <tr>\n",
       "      <th>904360</th>\n",
       "      <td>22225</td>\n",
       "      <td>57</td>\n",
       "      <td>0.881123</td>\n",
       "      <td>0.881135</td>\n",
       "      <td>{'actual_k': 25, 'was_impossible': False}</td>\n",
       "      <td>38</td>\n",
       "      <td>10208</td>\n",
       "      <td>0.000011</td>\n",
       "    </tr>\n",
       "  </tbody>\n",
       "</table>\n",
       "</div>"
      ],
      "text/plain": [
       "           uid  iid       rui       est  \\\n",
       "1047740  11935   64  0.881123  0.881124   \n",
       "561033   23286   90  0.881123  0.881118   \n",
       "720711    4287   59  0.881123  0.881131   \n",
       "427699    8140   73  0.881123  0.881134   \n",
       "904360   22225   57  0.881123  0.881135   \n",
       "\n",
       "                                           details  \\\n",
       "1047740  {'actual_k': 40, 'was_impossible': False}   \n",
       "561033   {'actual_k': 40, 'was_impossible': False}   \n",
       "720711   {'actual_k': 40, 'was_impossible': False}   \n",
       "427699   {'actual_k': 40, 'was_impossible': False}   \n",
       "904360   {'actual_k': 25, 'was_impossible': False}   \n",
       "\n",
       "         № кол-во пользовательских рейтингов  № кол-во рейтингов элементов  \\\n",
       "1047740                                   42                         11146   \n",
       "561033                                    64                          6204   \n",
       "720711                                    64                         11579   \n",
       "427699                                    55                          5458   \n",
       "904360                                    38                         10208   \n",
       "\n",
       "            error  \n",
       "1047740  0.000001  \n",
       "561033   0.000006  \n",
       "720711   0.000008  \n",
       "427699   0.000010  \n",
       "904360   0.000011  "
      ]
     },
     "execution_count": 25,
     "metadata": {},
     "output_type": "execute_result"
    }
   ],
   "source": [
    "best_predictions.head(5)"
   ]
  },
  {
   "cell_type": "code",
   "execution_count": 26,
   "id": "68a89929-b581-43d9-bfa5-452535641ace",
   "metadata": {
    "colab": {
     "base_uri": "https://localhost:8080/"
    },
    "id": "68a89929-b581-43d9-bfa5-452535641ace",
    "outputId": "0b2d86ba-8f2f-4601-8697-03a42e4f172a"
   },
   "outputs": [
    {
     "name": "stdout",
     "output_type": "stream",
     "text": [
      "19208 [89, 29, 62, 54, 35]\n",
      "8671 [32, 27, 49, 68, 72]\n",
      "6037 [89, 36, 27, 49, 72]\n",
      "3233 [50, 36, 27, 31, 48]\n",
      "3449 [50, 89, 53, 49, 72]\n",
      "10032 [32, 35, 29, 53, 49]\n",
      "5774 [89, 32, 29, 68, 69]\n",
      "23392 [89, 36, 62, 35, 29]\n",
      "3039 [89, 36, 62, 27, 53]\n",
      "17395 [50, 89, 27, 35, 29]\n"
     ]
    }
   ],
   "source": [
    "testset = trainset.build_anti_testset()\n",
    "predictions = algo.test(testset)\n",
    "\n",
    "top_n = get_top_n(predictions)\n",
    "\n",
    "a=0\n",
    "for uid, user_ratings in top_n.items():\n",
    "    a+=1\n",
    "    print(uid, [iid for (iid, _) in user_ratings])\n",
    "    \n",
    "    if a==10:\n",
    "        break"
   ]
  },
  {
   "cell_type": "markdown",
   "id": "aa5422a2-7447-489e-b789-5753fa32f2fa",
   "metadata": {
    "id": "aa5422a2-7447-489e-b789-5753fa32f2fa"
   },
   "source": [
    "### Для отправки на тестирование"
   ]
  },
  {
   "cell_type": "code",
   "execution_count": 10,
   "id": "d06b634c-c15c-4210-973c-1e4e7f7ccf9b",
   "metadata": {
    "colab": {
     "base_uri": "https://localhost:8080/",
     "height": 238
    },
    "id": "d06b634c-c15c-4210-973c-1e4e7f7ccf9b",
    "outputId": "0988a430-0875-4cce-986e-7973ba158917"
   },
   "outputs": [
    {
     "data": {
      "text/html": [
       "<div>\n",
       "<style scoped>\n",
       "    .dataframe tbody tr th:only-of-type {\n",
       "        vertical-align: middle;\n",
       "    }\n",
       "\n",
       "    .dataframe tbody tr th {\n",
       "        vertical-align: top;\n",
       "    }\n",
       "\n",
       "    .dataframe thead th {\n",
       "        text-align: right;\n",
       "    }\n",
       "</style>\n",
       "<table border=\"1\" class=\"dataframe\">\n",
       "  <thead>\n",
       "    <tr style=\"text-align: right;\">\n",
       "      <th></th>\n",
       "      <th>UID</th>\n",
       "      <th>JID</th>\n",
       "    </tr>\n",
       "    <tr>\n",
       "      <th>InteractionID</th>\n",
       "      <th></th>\n",
       "      <th></th>\n",
       "    </tr>\n",
       "  </thead>\n",
       "  <tbody>\n",
       "    <tr>\n",
       "      <th>0</th>\n",
       "      <td>11228</td>\n",
       "      <td>39</td>\n",
       "    </tr>\n",
       "    <tr>\n",
       "      <th>1</th>\n",
       "      <td>21724</td>\n",
       "      <td>85</td>\n",
       "    </tr>\n",
       "    <tr>\n",
       "      <th>2</th>\n",
       "      <td>16782</td>\n",
       "      <td>56</td>\n",
       "    </tr>\n",
       "    <tr>\n",
       "      <th>3</th>\n",
       "      <td>12105</td>\n",
       "      <td>42</td>\n",
       "    </tr>\n",
       "    <tr>\n",
       "      <th>4</th>\n",
       "      <td>14427</td>\n",
       "      <td>2</td>\n",
       "    </tr>\n",
       "  </tbody>\n",
       "</table>\n",
       "</div>"
      ],
      "text/plain": [
       "                 UID  JID\n",
       "InteractionID            \n",
       "0              11228   39\n",
       "1              21724   85\n",
       "2              16782   56\n",
       "3              12105   42\n",
       "4              14427    2"
      ]
     },
     "execution_count": 10,
     "metadata": {},
     "output_type": "execute_result"
    }
   ],
   "source": [
    "test = pd.read_csv('test_joke_df_nofactrating.csv', index_col=0)\n",
    "test.head(5)"
   ]
  },
  {
   "cell_type": "code",
   "execution_count": 11,
   "id": "27bade05-e8a4-4b23-a370-0fc7151ad768",
   "metadata": {
    "id": "27bade05-e8a4-4b23-a370-0fc7151ad768"
   },
   "outputs": [],
   "source": [
    "test['Rating'] = test[['UID', 'JID']].apply(lambda x: svd.predict(x[0], x[1], verbose=False).est,\n",
    "                                                      axis = 1)"
   ]
  },
  {
   "cell_type": "code",
   "execution_count": 12,
   "id": "8856cf55-5e63-493c-9b33-69ee76e39ea6",
   "metadata": {
    "colab": {
     "base_uri": "https://localhost:8080/",
     "height": 238
    },
    "id": "8856cf55-5e63-493c-9b33-69ee76e39ea6",
    "outputId": "5465856f-5b98-418c-80a7-743d51727f88"
   },
   "outputs": [
    {
     "data": {
      "text/html": [
       "<div>\n",
       "<style scoped>\n",
       "    .dataframe tbody tr th:only-of-type {\n",
       "        vertical-align: middle;\n",
       "    }\n",
       "\n",
       "    .dataframe tbody tr th {\n",
       "        vertical-align: top;\n",
       "    }\n",
       "\n",
       "    .dataframe thead th {\n",
       "        text-align: right;\n",
       "    }\n",
       "</style>\n",
       "<table border=\"1\" class=\"dataframe\">\n",
       "  <thead>\n",
       "    <tr style=\"text-align: right;\">\n",
       "      <th></th>\n",
       "      <th>Rating</th>\n",
       "    </tr>\n",
       "    <tr>\n",
       "      <th>InteractionID</th>\n",
       "      <th></th>\n",
       "    </tr>\n",
       "  </thead>\n",
       "  <tbody>\n",
       "    <tr>\n",
       "      <th>0</th>\n",
       "      <td>4.222388</td>\n",
       "    </tr>\n",
       "    <tr>\n",
       "      <th>1</th>\n",
       "      <td>-8.127760</td>\n",
       "    </tr>\n",
       "    <tr>\n",
       "      <th>2</th>\n",
       "      <td>-1.418540</td>\n",
       "    </tr>\n",
       "    <tr>\n",
       "      <th>3</th>\n",
       "      <td>6.361503</td>\n",
       "    </tr>\n",
       "    <tr>\n",
       "      <th>4</th>\n",
       "      <td>0.560133</td>\n",
       "    </tr>\n",
       "  </tbody>\n",
       "</table>\n",
       "</div>"
      ],
      "text/plain": [
       "                 Rating\n",
       "InteractionID          \n",
       "0              4.222388\n",
       "1             -8.127760\n",
       "2             -1.418540\n",
       "3              6.361503\n",
       "4              0.560133"
      ]
     },
     "execution_count": 12,
     "metadata": {},
     "output_type": "execute_result"
    }
   ],
   "source": [
    "test['Rating'].to_frame().head(5)"
   ]
  },
  {
   "cell_type": "code",
   "execution_count": 13,
   "id": "yLcjElHPRU1v",
   "metadata": {
    "id": "yLcjElHPRU1v"
   },
   "outputs": [],
   "source": [
    "test['Rating'].to_frame().to_csv('submission1.csv')"
   ]
  }
 ],
 "metadata": {
  "colab": {
   "provenance": []
  },
  "kernelspec": {
   "display_name": "Python 3 (ipykernel)",
   "language": "python",
   "name": "python3"
  },
  "language_info": {
   "codemirror_mode": {
    "name": "ipython",
    "version": 3
   },
   "file_extension": ".py",
   "mimetype": "text/x-python",
   "name": "python",
   "nbconvert_exporter": "python",
   "pygments_lexer": "ipython3",
   "version": "3.9.7"
  }
 },
 "nbformat": 4,
 "nbformat_minor": 5
}
